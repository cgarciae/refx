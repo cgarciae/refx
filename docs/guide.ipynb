{
 "cells": [
  {
   "cell_type": "code",
   "execution_count": 2,
   "metadata": {},
   "outputs": [
    {
     "data": {
      "text/plain": [
       "{'x': {'a': 100, 'b': 2}, 'y': {'a': 100, 'b': 2}}"
      ]
     },
     "execution_count": 2,
     "metadata": {},
     "output_type": "execute_result"
    }
   ],
   "source": [
    "shared = {\n",
    "    \"a\": 1,\n",
    "    \"b\": 2,\n",
    "}\n",
    "pytree = {\n",
    "    \"x\": shared,\n",
    "    \"y\": shared,\n",
    "}\n",
    "\n",
    "# in regular python\n",
    "pytree[\"x\"][\"a\"] = 100\n",
    "assert pytree[\"y\"][\"a\"] == 100\n",
    "\n",
    "pytree "
   ]
  },
  {
   "cell_type": "code",
   "execution_count": 3,
   "metadata": {},
   "outputs": [
    {
     "name": "stderr",
     "output_type": "stream",
     "text": [
      "No GPU/TPU found, falling back to CPU. (Set TF_CPP_MIN_LOG_LEVEL=0 and rerun for more info.)\n"
     ]
    },
    {
     "name": "stdout",
     "output_type": "stream",
     "text": [
      "References lost\n"
     ]
    },
    {
     "data": {
      "text/plain": [
       "{'x': {'a': Array(100, dtype=int32, weak_type=True),\n",
       "  'b': Array(200, dtype=int32, weak_type=True)},\n",
       " 'y': {'a': Array(100, dtype=int32, weak_type=True),\n",
       "  'b': Array(2, dtype=int32, weak_type=True)}}"
      ]
     },
     "execution_count": 3,
     "metadata": {},
     "output_type": "execute_result"
    }
   ],
   "source": [
    "import jax\n",
    "\n",
    "@jax.jit\n",
    "def f(pytree):\n",
    "    pytree[\"x\"][\"b\"] = 200\n",
    "    return pytree\n",
    "\n",
    "pytree = f(pytree)\n",
    "\n",
    "try:\n",
    "    assert pytree[\"y\"][\"b\"] == 200\n",
    "except AssertionError:\n",
    "    print(\"References lost\")\n",
    "\n",
    "pytree"
   ]
  },
  {
   "cell_type": "code",
   "execution_count": 4,
   "metadata": {},
   "outputs": [],
   "source": [
    "import refx\n",
    "\n",
    "shared = {\n",
    "    \"a\": refx.Ref(1),\n",
    "    \"b\": refx.Ref(2),\n",
    "}\n",
    "pytree = {\n",
    "    \"x\": shared,\n",
    "    \"y\": shared,\n",
    "}\n",
    "\n",
    "# in regular python\n",
    "pytree[\"x\"][\"a\"].value = 100\n",
    "assert pytree[\"y\"][\"a\"].value == 100"
   ]
  },
  {
   "attachments": {},
   "cell_type": "markdown",
   "metadata": {},
   "source": [
    "In general, this is very dangerous because it can lead very easily to tracer leakage. E.g."
   ]
  },
  {
   "cell_type": "code",
   "execution_count": 11,
   "metadata": {},
   "outputs": [
    {
     "name": "stdout",
     "output_type": "stream",
     "text": [
      "Encountered an unexpected tracer. A function transformed by JAX had a side effect, allowing for a reference to an intermediate value with type float32[1] wrapped in a DynamicJaxprTracer to escape the scope of the transformation.\n",
      "JAX transformations require that functions explicitly return their outputs, and disallow saving intermediate values to global state.\n"
     ]
    }
   ],
   "source": [
    "from dataclasses import dataclass\n",
    "\n",
    "@dataclass\n",
    "class FakeRef:\n",
    "    value: object\n",
    "\n",
    "ref = FakeRef(1)\n",
    "\n",
    "@jax.jit\n",
    "def f():\n",
    "    x = jax.numpy.empty(1)\n",
    "    ref.value = x\n",
    "    return x\n",
    "\n",
    "x = f()\n",
    "\n",
    "try:\n",
    "    ref.value + 1\n",
    "except BaseException as e:\n",
    "    print(\"\\n\".join(str(e).splitlines()[:2]))"
   ]
  },
  {
   "cell_type": "code",
   "execution_count": 13,
   "metadata": {},
   "outputs": [
    {
     "name": "stdout",
     "output_type": "stream",
     "text": [
      "Cannot mutate ref from different trace level\n"
     ]
    }
   ],
   "source": [
    "from dataclasses import dataclass\n",
    "ref = refx.Ref(1)\n",
    "\n",
    "@jax.jit\n",
    "def f():\n",
    "    x = jax.numpy.empty(1)\n",
    "    ref.value = x\n",
    "    return x\n",
    "\n",
    "try:\n",
    "    f()\n",
    "except ValueError as e:\n",
    "    print(e)"
   ]
  },
  {
   "attachments": {},
   "cell_type": "markdown",
   "metadata": {},
   "source": [
    "How do we even use this?"
   ]
  },
  {
   "cell_type": "code",
   "execution_count": 14,
   "metadata": {},
   "outputs": [
    {
     "name": "stdout",
     "output_type": "stream",
     "text": [
      "Cannot interpret value of type <class 'refx.ref.Ref'> as an abstract array; it does not have a dtype attribute\n"
     ]
    }
   ],
   "source": [
    "shared = {\n",
    "    \"a\": refx.Ref(1),\n",
    "    \"b\": refx.Ref(2),\n",
    "}\n",
    "pytree = {\n",
    "    \"x\": shared,\n",
    "    \"y\": shared,\n",
    "}\n",
    "\n",
    "@jax.jit\n",
    "def f(pytree):\n",
    "    return pytree\n",
    "\n",
    "try:\n",
    "    f(pytree)\n",
    "except BaseException as e:\n",
    "    print(e)"
   ]
  },
  {
   "attachments": {},
   "cell_type": "markdown",
   "metadata": {},
   "source": [
    "We need to deref:"
   ]
  },
  {
   "cell_type": "code",
   "execution_count": 16,
   "metadata": {},
   "outputs": [
    {
     "data": {
      "text/plain": [
       "{'x': [Value(_value=1, index=0, ref_type=<class 'refx.ref.Ref'>),\n",
       "  Index(index=0, ref_type=<class 'refx.ref.Ref'>),\n",
       "  Value(_value=2, index=1, ref_type=<class 'refx.ref.Ref'>)],\n",
       " 'y': Index(index=1, ref_type=<class 'refx.ref.Ref'>),\n",
       " 'z': 10}"
      ]
     },
     "execution_count": 16,
     "metadata": {},
     "output_type": "execute_result"
    }
   ],
   "source": [
    "r1 = refx.Ref(1)\n",
    "r2 = refx.Ref(2)\n",
    "\n",
    "pytree = {\n",
    "    \"x\": [r1, r1, r2],\n",
    "    \"y\": r2,\n",
    "    \"z\": 10,\n",
    "}\n",
    "\n",
    "refx.deref(pytree)"
   ]
  },
  {
   "cell_type": "code",
   "execution_count": 17,
   "metadata": {},
   "outputs": [
    {
     "data": {
      "text/plain": [
       "{'x': [Value(_value=Array(1, dtype=int32, weak_type=True), index=0, ref_type=<class 'refx.ref.Ref'>),\n",
       "  Index(index=0, ref_type=<class 'refx.ref.Ref'>),\n",
       "  Value(_value=Array(2, dtype=int32, weak_type=True), index=1, ref_type=<class 'refx.ref.Ref'>)],\n",
       " 'y': Index(index=1, ref_type=<class 'refx.ref.Ref'>),\n",
       " 'z': Array(10, dtype=int32, weak_type=True)}"
      ]
     },
     "execution_count": 17,
     "metadata": {},
     "output_type": "execute_result"
    }
   ],
   "source": [
    "r1 = refx.Ref(1)\n",
    "r2 = refx.Ref(2)\n",
    "\n",
    "pytree = {\n",
    "    \"x\": [r1, r1, r2],\n",
    "    \"y\": r2,\n",
    "    \"z\": 10,\n",
    "}\n",
    "\n",
    "pytree = refx.deref(pytree)\n",
    "\n",
    "@jax.jit\n",
    "def f(pytree):\n",
    "    return pytree\n",
    "\n",
    "f(pytree)"
   ]
  },
  {
   "cell_type": "code",
   "execution_count": 20,
   "metadata": {},
   "outputs": [
    {
     "name": "stdout",
     "output_type": "stream",
     "text": [
      "Cannot get value of Index\n"
     ]
    }
   ],
   "source": [
    "r1 = refx.Ref(1)\n",
    "r2 = refx.Ref(2)\n",
    "\n",
    "pytree = {\n",
    "    \"x\": [r1, r1, r2],\n",
    "    \"y\": r2,\n",
    "    \"z\": 10,\n",
    "}\n",
    "\n",
    "pytree = refx.deref(pytree)\n",
    "\n",
    "@jax.jit\n",
    "def f(pytree):\n",
    "    y = pytree['x'][1].value\n",
    "    return pytree\n",
    "\n",
    "try:\n",
    "    f(pytree)\n",
    "except BaseException as e:\n",
    "    print(e)"
   ]
  },
  {
   "cell_type": "code",
   "execution_count": 22,
   "metadata": {},
   "outputs": [],
   "source": [
    "r1 = refx.Ref(1)\n",
    "r2 = refx.Ref(2)\n",
    "\n",
    "pytree = {\n",
    "    \"x\": [r1, r1, r2],\n",
    "    \"y\": r2,\n",
    "    \"z\": 10,\n",
    "}\n",
    "\n",
    "pytree = refx.deref(pytree)\n",
    "\n",
    "@jax.jit\n",
    "def f(pytree):\n",
    "    pytree = refx.reref(pytree)\n",
    "    pytree['x'][1].value = 100\n",
    "    pytree = refx.deref(pytree)\n",
    "    return pytree\n",
    "\n",
    "pytree = f(pytree)\n",
    "pytree = refx.reref(pytree)\n",
    "\n",
    "assert pytree['x'][0].value == 100"
   ]
  },
  {
   "cell_type": "code",
   "execution_count": null,
   "metadata": {},
   "outputs": [],
   "source": []
  }
 ],
 "metadata": {
  "kernelspec": {
   "display_name": ".venv",
   "language": "python",
   "name": "python3"
  },
  "language_info": {
   "codemirror_mode": {
    "name": "ipython",
    "version": 3
   },
   "file_extension": ".py",
   "mimetype": "text/x-python",
   "name": "python",
   "nbconvert_exporter": "python",
   "pygments_lexer": "ipython3",
   "version": "3.8.10"
  },
  "orig_nbformat": 4
 },
 "nbformat": 4,
 "nbformat_minor": 2
}
